{
 "cells": [
  {
   "cell_type": "code",
   "execution_count": 1,
   "metadata": {
    "autoscroll": false,
    "ein.hycell": false,
    "ein.tags": "worksheet-0",
    "slideshow": {
     "slide_type": "-"
    }
   },
   "outputs": [],
   "source": [
    "import numpy as np\n",
    "import nltk, os\n",
    "from word import Word"
   ]
  },
  {
   "cell_type": "code",
   "execution_count": 42,
   "metadata": {
    "autoscroll": false,
    "ein.hycell": false,
    "ein.tags": "worksheet-0",
    "slideshow": {
     "slide_type": "-"
    }
   },
   "outputs": [],
   "source": [
    "class n2c2Parser():    \n",
    "    filepath =  None\n",
    "    tokens = None\n",
    "    tokens_dict = None\n",
    "    def __init__(self, filepath):\n",
    "        self.filepath = filepath\n",
    "\n",
    "    def parse_file(self):\n",
    "        with open(self.filepath, 'r') as f:\n",
    "            data = f.read()\n",
    "        data = data.replace('.\\n', ' \\n')\n",
    "        data = data.replace('-', ' ')\n",
    "        data = data.replace(':', ' ')\n",
    "\n",
    "        tokens = []\n",
    "        tokens_dict = {}\n",
    "        word_offset = 0\n",
    "        prev_char = ' '\n",
    "        current_token = ''\n",
    "        start_char, end_char = None, None \n",
    "        end_of_word = {' ', '\\n', r','} # tokens signifying end of word\n",
    "        for i, char in enumerate(data):\n",
    "            if prev_char in end_of_word and char not in end_of_word: # new word started\n",
    "                start_char = i\n",
    "                current_token += char\n",
    "            elif prev_char not in end_of_word and char in end_of_word: # word ended\n",
    "                end_char = i\n",
    "                tokens.append(\n",
    "                    {'text': current_token, 'start_char':  start_char, 'end_char':  end_char}\n",
    "                )\n",
    "                tokens_dict[start_char] = {\n",
    "                    'text': current_token,\n",
    "                    'start_char':  start_char,\n",
    "                    'end_char':  end_char\n",
    "                }\n",
    "                current_token = ''\n",
    "            elif prev_char not in end_of_word and char not in end_of_word: # word continues\n",
    "                current_token += char\n",
    "            else: # blank space followed by blank space\n",
    "                pass\n",
    "            prev_char = char\n",
    "        self.tokens = tokens\n",
    "        self.tokens_dict = tokens_dict\n",
    "    \n",
    "    def tag_gold_tokens(self, gold_file):\n",
    "        parsed_gold = {}\n",
    "        with open(gold_file, 'r') as f:\n",
    "            gold_data = f.read().splitlines()\n",
    "        for l in gold_data:\n",
    "            data_in_line = self.parse_gold_line(l)\n",
    "            for data in data_in_line:\n",
    "                tagged_data = False\n",
    "                for token in range(len(self.tokens)):\n",
    "                    if (self.tokens[token]['start_char'] >= data['start_offset'] and\n",
    "                            self.tokens[token]['end_char'] <= data['end_offset']):\n",
    "                        tagged_data = True\n",
    "                        self.tokens[token]['concept'] = data['concept']\n",
    "                        self.tokens[token]['gold_text'] = data['text']\n",
    "                        self.tokens[token]['id'] = data['id']\n",
    "                if not tagged_data:\n",
    "                    print('Data was not tagged for line:\\n{0}'.format(data))\n",
    "\n",
    "                                \n",
    "    def parse_gold_line(self, line):\n",
    "        bundle = []\n",
    "        if line[0] == 'T':\n",
    "            linesplit = line.split()\n",
    "            _id = linesplit[0]\n",
    "            concept = linesplit[1]\n",
    "            if r';' not in linesplit[3]: # continuous\n",
    "                start_offsets = [linesplit[2]]\n",
    "                end_offsets = [linesplit[3]]\n",
    "                text = linesplit[4:]\n",
    "            else: # non-continuous\n",
    "                offsets = ';'.join(linesplit[2:5]).split(';')\n",
    "                start_offsets = [offsets[0], offsets[2]]\n",
    "                end_offsets = [offsets[1], offsets[3]]\n",
    "                text = linesplit[5:]\n",
    "\n",
    "            for start_offset, end_offset in zip(start_offsets, end_offsets):\n",
    "                bundle.append(\n",
    "                    {\n",
    "                        'id': _id,\n",
    "                        'concept': concept,\n",
    "                        'start_offset': int(start_offset),\n",
    "                        'end_offset': int(end_offset),\n",
    "                        'text': ' '.join(text),\n",
    "                    }\n",
    "                )\n",
    "        return bundle"
   ]
  },
  {
   "cell_type": "markdown",
   "metadata": {
    "ein.tags": "worksheet-0",
    "slideshow": {
     "slide_type": "-"
    }
   },
   "source": [
    "# Testing"
   ]
  },
  {
   "cell_type": "code",
   "execution_count": 43,
   "metadata": {
    "autoscroll": false,
    "ein.hycell": false,
    "ein.tags": "worksheet-0",
    "slideshow": {
     "slide_type": "-"
    }
   },
   "outputs": [],
   "source": [
    "input_file = 100039\n",
    "data_path = '/Users/samrawal/Documents/workspace/colab/data/n2c2/track2/training_20180910/'\n",
    "\n",
    "txt_file_path = '{0}/{1}.txt'.format(data_path, input_file)\n",
    "ann_file_path = '{0}/{1}.ann'.format(data_path, input_file)\n"
   ]
  },
  {
   "cell_type": "code",
   "execution_count": 44,
   "metadata": {
    "autoscroll": false,
    "ein.hycell": false,
    "ein.tags": "worksheet-0",
    "slideshow": {
     "slide_type": "-"
    }
   },
   "outputs": [],
   "source": [
    "parser = n2c2Parser(txt_file_path)\n",
    "parser.parse_file()\n",
    "tokens = parser.tokens"
   ]
  },
  {
   "cell_type": "code",
   "execution_count": 45,
   "metadata": {
    "autoscroll": false,
    "ein.hycell": false,
    "ein.tags": "worksheet-0",
    "slideshow": {
     "slide_type": "-"
    }
   },
   "outputs": [
    {
     "name": "stdout",
     "output_type": "stream",
     "text": [
      "{'text': 'Prochlorperazine', 'start_char': 166, 'end_char': 182}\n"
     ]
    }
   ],
   "source": [
    "for token in tokens:\n",
    "    if token['start_char'] == 166:\n",
    "        print(token)"
   ]
  },
  {
   "cell_type": "code",
   "execution_count": 46,
   "metadata": {
    "autoscroll": false,
    "ein.hycell": false,
    "ein.tags": "worksheet-0",
    "slideshow": {
     "slide_type": "-"
    }
   },
   "outputs": [
    {
     "name": "stdout",
     "output_type": "stream",
     "text": [
      "Data was not tagged for line:\n",
      "{'id': 'T25', 'concept': 'Drug', 'start_offset': 17039, 'end_offset': 17048, 'text': 'milrinone'}\n",
      "Data was not tagged for line:\n",
      "{'id': 'T26', 'concept': 'Drug', 'start_offset': 17049, 'end_offset': 17054, 'text': 'lasix'}\n",
      "Data was not tagged for line:\n",
      "{'id': 'T30', 'concept': 'Route', 'start_offset': 17240, 'end_offset': 17243, 'text': 'gtt'}\n",
      "Data was not tagged for line:\n",
      "{'id': 'T54', 'concept': 'Drug', 'start_offset': 1902, 'end_offset': 1913, 'text': 'hydroxyurea'}\n",
      "Data was not tagged for line:\n",
      "{'id': 'T55', 'concept': 'Drug', 'start_offset': 19058, 'end_offset': 19067, 'text': 'milrinone'}\n",
      "Data was not tagged for line:\n",
      "{'id': 'T56', 'concept': 'Drug', 'start_offset': 19068, 'end_offset': 19073, 'text': 'lasix'}\n",
      "Data was not tagged for line:\n",
      "{'id': 'T91', 'concept': 'Drug', 'start_offset': 2041, 'end_offset': 2044, 'text': 'MTX'}\n",
      "Data was not tagged for line:\n",
      "{'id': 'T248', 'concept': 'Drug', 'start_offset': 23301, 'end_offset': 23307, 'text': 'Bentyl'}\n",
      "Data was not tagged for line:\n",
      "{'id': 'T249', 'concept': 'Drug', 'start_offset': 23365, 'end_offset': 23373, 'text': 'morphine'}\n",
      "Data was not tagged for line:\n",
      "{'id': 'T276', 'concept': 'Drug', 'start_offset': 24783, 'end_offset': 24794, 'text': 'dicyclomine'}\n",
      "Data was not tagged for line:\n",
      "{'id': 'T280', 'concept': 'Reason', 'start_offset': 24882, 'end_offset': 24885, 'text': 'gas'}\n",
      "Data was not tagged for line:\n",
      "{'id': 'T299', 'concept': 'Drug', 'start_offset': 25450, 'end_offset': 25458, 'text': 'coumadin'}\n",
      "Data was not tagged for line:\n",
      "{'id': 'T15', 'concept': 'Drug', 'start_offset': 6398, 'end_offset': 6406, 'text': 'contrast'}\n",
      "Data was not tagged for line:\n",
      "{'id': 'T312', 'concept': 'Reason', 'start_offset': 17147, 'end_offset': 17154, 'text': 'ascites'}\n"
     ]
    }
   ],
   "source": [
    "line = 'T80\tReason 17807 17824;17825 17837\tparoxysmal atrial fibrillation'\n",
    "line2 = 'T75\tDrug 17749 17758\tquinidine '\n",
    "parser = n2c2Parser(txt_file_path)\n",
    "parser.parse_file()\n",
    "parser.tag_gold_tokens(ann_file_path)"
   ]
  },
  {
   "cell_type": "code",
   "execution_count": 48,
   "metadata": {
    "autoscroll": false,
    "ein.hycell": false,
    "ein.tags": "worksheet-0",
    "slideshow": {
     "slide_type": "-"
    }
   },
   "outputs": [
    {
     "name": "stdout",
     "output_type": "stream",
     "text": [
      "{'text': 'milrinone/lasix', 'start_char': 17039, 'end_char': 17054}\n"
     ]
    }
   ],
   "source": [
    "for t in parser.tokens:\n",
    "    if abs(t['start_char'] - 17039) < 1:\n",
    "        print(t)"
   ]
  },
  {
   "cell_type": "code",
   "execution_count": 31,
   "metadata": {
    "scrolled": false
   },
   "outputs": [],
   "source": [
    "with open(txt_file_path, 'r') as f: data = f.read()"
   ]
  },
  {
   "cell_type": "code",
   "execution_count": 32,
   "metadata": {},
   "outputs": [
    {
     "data": {
      "text/plain": [
       "\"Admission Date:  [**2174-4-18**]              Discharge Date:   [**2174-5-17**]\\n\\nDate of Birth:  [**2135-11-15**]             Sex:   F\\n\\nService: MEDICINE\\n\\nAllergies:\\nProchlorperazine / Heparin Agents\\n\\nAttending:[**First Name3 (LF) 3918**]\\nChief Complaint:\\nAbdominal Pain\\n\\nMajor Surgical or Invasive Procedure:\\nUpper GI series with small bowel follow through\\nRight heart catheterization\\nIR guided paracentesis\\n\\n\\nHistory of Present Illness:\\n38 yo F w/ h/o ALL in remission s/p cord transplant in [**1-13**],\\nanthracycline-induced cardiomyopathy (EF 15-20% [**1-14**]) and\\nrecurrent nausea and vomiting who presents with abdominal pain,\\nN/V x1 week\\n\\nOf note, the pt was admitted here from [**Date range (1) **] with nausea and\\nvomitting of unclear etiology. When discharged, she was\\ntolerating good PO and had planned f/u with neuro for ?\\nabdominal migraine and GI for possible other contributing\\nfactors including food sensitivities and gastroparesis.\\n\\nIn the ED, VS: 98.8 94 138/100 16 100% and [**10-15**] pain. CT A/P\\nshowed a small umbilical hernia; interval increase in size and\\nmild fat stranding and interval increase in ascites compared to\\nrecent prior imaging.  WBC 12.4 with no left shift, bili 2.1 up\\nfrom 1.1, Cr 2.7 up from 2.3.  Surgery was consulted give CT\\nfinding and did not feel there was an indication for surgery.\\nShe received iv zofran and morphine 4mg iv and 1L IVF.\\n\\nOn arrival to the floor, patient reports [**11-14**] total body pain\\nand nausea.  She has had ice chips today but threw them up in\\nthe ED.\\n\\nReview of Systems:\\n(+) Per HPI\\n(-) Review of Systems: Denies fevers, chest pain, SOB, diarrhea,\\nconstipation, dysuria, HA, change in vision or dizziness.\\n\\n\\nPast Medical History:\\nONCOLOGIC HISTORY:\\nALL:\\n- initially presented in [**2172-8-5**] right chest and right upper\\nextremity pain and paresthesias and visual blurriness. WBC\\n149,000; received leukapheresis, started on hydroxyurea. Dx'ed\\nwith precursor B-cell ALL.\\n- underwent phase I induction with daunorubicin, vincristine,\\ndexamethasone, L-asparaginase, MTX; phase II with\\ncyclophosphamide, cytarabine, mercaptopurine, MTX\\n- Bone Marrow Aspirate/Biopsy on [**2172-10-26**] showed no morphologic\\n\\nevidence of residual leukemia\\n- underwent allo double cord blood SCT [**2173-1-11**], course\\ncomplicated by neutropenic fever and acute skin GVHD\\n\\nOTHER MEDICAL HISTORY:\\n- Embolic stroke in [**3-/2174**] on coumadin\\n- Cardiomyopathy due to early anthracycline-related\\ncardiotoxicity [**10/2172**]\\n- Chronic kidney disease stage III/IV, baseline creatinine\\n~2.0-2.2\\n- Asthma\\n- HTN\\n- Cervical Intraepithelial neoplasia\\n- C-section in [**2165**]\\n\\n\\nSocial History:\\nSmoke: never\\nEtOH: Occasional in past, none currently\\nDrugs: Never\\nLives/works: Single, has two children (ages 7 and 18). Lives in\\n[**Location 686**]. Was previously employed at [**Company 59330**], hasn't been\\nworking since being diagnosed with ALL in [**2172-8-5**].\\n\\n\\nFamily History:\\nMother with gastric cancer, passed at the age of 40\\nFather with HTN.\\n\\n\\nPhysical Exam:\\nVS: 98 145/76 87 15 100% RA\\nGEN: well appearing F in NAD\\nHEENT: slight dry MM, sclera anicteric, PERRL\\nCards: RR S1/S2 normal. prominent S3\\nPulm: CTAB\\nAbd: Hyperactive BS.  Initially soft when palpating with\\nstethoscope over all 4 quadrants then suddenly exquisitely\\ntender on right.  No guarding initially.  Unable to assess for\\nHSM.\\nExtremities: wwp, no edema. PTs 2+.\\nNeuro: CNs II-XII grossly intact. normal gait\\nPsych:  overly dramatic affect\\n\\n\\nPertinent Results:\\nOn admission:\\n[**2174-4-18**] 02:00PM BLOOD WBC-12.4* RBC-3.78* Hgb-11.4* Hct-36.3\\nMCV-96 MCH-30.2 MCHC-31.4 RDW-16.5* Plt Ct-212\\n[**2174-4-18**] 02:00PM BLOOD Neuts-67.3 Lymphs-23.8 Monos-7.7 Eos-0.5\\nBaso-0.7\\n[**2174-4-18**] 04:30PM BLOOD PT-30.1* PTT-29.4 INR(PT)-3.0*\\n[**2174-4-18**] 02:00PM BLOOD UreaN-30* Creat-2.7* Na-142 K-4.8 Cl-99\\nHCO3-31 AnGap-17\\n[**2174-4-18**] 02:00PM BLOOD ALT-15 AST-18 AlkPhos-127* TotBili-2.1*\\n[**2174-4-18**] 02:00PM BLOOD Lipase-63*\\n[**2174-4-18**] 02:00PM BLOOD cTropnT-<0.01\\n[**2174-4-18**] 02:00PM BLOOD Albumin-3.8 Calcium-9.3 Phos-4.8* Mg-2.0\\n\\nOn discharge:\\n[**2174-5-17**] 12:00AM BLOOD WBC-19.1* RBC-3.86* Hgb-11.3* Hct-37.7\\nMCV-98 MCH-29.3 MCHC-30.0* RDW-17.8* Plt Ct-419\\n[**2174-5-17**] 12:00AM BLOOD Neuts-81.3* Lymphs-11.4* Monos-6.9\\nEos-0.1 Baso-0.3\\n[**2174-5-17**] 12:00AM BLOOD PT-31.2* PTT-28.6 INR(PT)-3.1*\\n[**2174-5-17**] 12:00AM BLOOD Fibrino-162\\n[**2174-5-17**] 12:00AM BLOOD Glucose-152* UreaN-78* Creat-2.9* Na-137\\nK-4.7 Cl-95* HCO3-31 AnGap-16\\n[**2174-5-17**] 12:00AM BLOOD ALT-51* AST-41* LD(LDH)-327* AlkPhos-107*\\nTotBili-0.7\\n[**2174-5-13**] 12:11PM BLOOD cTropnT-<0.01\\n[**2174-5-17**] 12:00AM BLOOD Albumin-3.8 Calcium-8.7 Phos-2.1* Mg-2.7*\\nUricAcd-8.7*\\n[**2174-4-27**] 02:51AM BLOOD calTIBC-246* Ferritn-107 TRF-189*\\n[**2174-5-2**] 05:55AM BLOOD [**Doctor First Name **]-NEGATIVE dsDNA-NEGATIVE\\n[**2174-4-28**]  HHV-8 DNA, QL PCR       Not Detected\\n[**2174-4-27**] QUANTIFERON(R)-TB GOLD        NEGATIVE\\nNEGATIVE\\n[**2174-4-29**] ACE, SERUM                    30                  [**10/2130**]\\nU/L\\n\\nMicro:\\n[**2174-4-25**] 1:07 pm PERITONEAL FLUID\\n   GRAM STAIN (Final [**2174-4-25**]):\\n      NO POLYMORPHONUCLEAR LEUKOCYTES SEEN.\\n      NO MICROORGANISMS SEEN.\\n   FLUID CULTURE (Final [**2174-4-28**]):    NO GROWTH.\\n   ANAEROBIC CULTURE (Final [**2174-5-1**]):    NO GROWTH.\\n   ACID FAST CULTURE (Preliminary):    NO MYCOBACTERIA ISOLATED.\\n\\n   ACID FAST SMEAR (Final [**2174-4-30**]):\\n      NO ACID FAST BACILLI SEEN ON DIRECT SMEAR.\\n   FUNGAL CULTURE (Final [**2174-5-13**]):    NO FUNGUS ISOLATED.\\n\\n[**2174-4-29**] 10:15 pm BLOOD CULTURE ( MYCO/F LYTIC BOTTLE)\\n   BLOOD/FUNGAL CULTURE (Preliminary):    NO FUNGUS ISOLATED.\\n   BLOOD/AFB CULTURE (Preliminary):    NO MYCOBACTERIA ISOLATED.\\n\\n\\nCMV Viral Load (Final [**2174-5-6**]): CMV DNA not detected.\\n\\nECG [**2174-4-18**]:\\nSinus rhythm. Possible left atrial abnormality. Lateral ST-T\\nwave\\nabnormality. Cannot rule out myocardial ischemia. Poor R wave\\nprogression.  Cannot rule out anterior wall myocardial\\ninfarction of indeterminate age. Compared to the previous\\ntracing of [**2174-4-2**] multiple described abnormalities persist.\\n\\nCT abdomen/pelvis without contrast [**2174-4-18**]:\\nFINDINGS: There is a small-to-moderate right pleural effusion,\\nsmaller in\\nsize compared to last CT torso. There is a small pericardial\\neffusion. Study is suboptimal for evaluation of solid organs due\\nto lack of IV contrast. With this limitation in mind, there is\\nno extra- or intra-hepatic biliary duct dilatation. Previously\\ndescribed presumably focal nodular hyperplasia in segment VI of\\nthe liver is not clearly visualized on a non-contrast CT. There\\nis a presumably gallbladder wall edema from third spacing with\\nmoderate amount of ascites. There is likely gallbladder sludge.\\nPancreas and bilateral adrenal glands are within normal limits\\nconsidering the limitation of no contrast administration. There\\nis interval increase in size of a fat-containing umbilical\\nhernia measuring 2 cm in transverse dimension with mild fat\\nstranding(2:50), correlate with point tenderness/physical exam.\\nThe appendix is not dilated (2:49), contains air and there is a\\nlikely small appendicolith (2:53). There is no bowel\\nobstruction. There is no evidence of colonic wall thickening,\\nalthough evaluation is suboptimal given lack of IV or PO\\ncontrast and adjacent ascites.. The kidneys are normal in size.\\nThere is no evidence of hydronephrosis. Due to lack of oral\\ncontrast, evaluation for mesenteric lymph nodes is suboptimal.\\nThere are scattered lymph nodes in the retroperitoneum, however,\\ndo not meet the CT criteria for pathologic enlargement.\\n\\nCT PELVIS: There is free fluid in the pelvis - ascites. The\\nuterus and urinary bladder appear normal. The rectum and sigmoid\\nhave scattered diverticula; however, no evidence of\\ndiverticulitis.\\n\\nOSSEOUS STRUCTURES: No suspicious lytic or sclerotic lesion.\\nThere is soft tissue stranding suggesting anasarca.\\n\\nIMPRESSION:\\n1. Mild-to-moderate right pleural effusion; however, interval\\ndecrease in size compared to prior.\\n2. Moderate ascites with interval increase.\\n3. No drainable fluid collection, however, evaluation is\\nsuboptimal due to lack of IV and oral contrast.\\n4. Diverticulosis.\\n5. Interval increase in size of a small fat-containing umbilical\\nhernia with mild fat stranding, correlate with point tenderness.\\n\\n6. No bowel obstruction. No definite bowel wall thickening,\\nalthough the examination is suboptimal for such.\\n7. Pericardial effusion, similar to prior.\\n\\nRUQ ultrasound [**2174-4-18**]:\\nFINDINGS: The liver is of normal echogenicity. Previously\\ndescribed presumably focal nodular hyperplasia in segment VI of\\nthe liver is not clearly visualized. There is no intra- or\\nextra-hepatic biliary duct dilatation. The common bile duct\\nmeasures 2 mm. There is ascites. There is gallbladder wall\\nedema/thickening presumably from third spacing; the gallbadder\\nis not distended. No convincing evidence of sludge on\\nultrasound. The main portal vein is patent. Pancreas is\\nsuboptimally evaluated due to overlapping bowel gas. There is a\\nsmall-to-moderate right pleural effusion as seen on recent CT.\\n\\nIMPRESSION:\\n1. Ascites.\\n2. Gallbladder wall edema presumably from third spacing.\\n3. Small-to-moderate right pleural effusion.\\n4. No biliary duct dilatation.\\n5. Previously described presummed focal nodular hyperplasia in\\nsegment VI of the liver is not clearly visualized.\\n\\nSmall bowel follow through [**2174-4-20**]:\\nIMPRESSION:\\n1. Small, anterior cervical web that does not hinder the passage\\nof a 13mm\\nbarium tablet.\\n2. Filling defect in the mid esophagus just below the carina\\nappears to be either extrinsic compression versus a submucosal\\nlesion. In correlation with the comparison CT torso, mediastinal\\nlesion is less likely. Submucosal esophageal lesion remains\\nwithin the differential, and direct visualization with EGD is\\nrecommended. Other possibility includes an aberrant vessel in\\nthis vicinity.\\n3. Mobile cecum which does not appear to be obstructive in any\\nmanner on today's examination.\\n\\nRenal ultrasound [**2174-4-20**]:\\nFINDINGS: The right kidney measures 10.5 cm. The left kidney\\nmeasures 9.7\\ncm. There is no evidence of hydronephrosis, stone or mass\\nbilaterally. The\\nbladder is unremarkable. Moderate amount of ascites is\\nincidentally noted.\\n\\nIMPRESSION: No hydronephrosis, stone or mass within the kidneys.\\n\\n\\nPeritoneal Fluid [**2174-4-25**]:\\n  ATYPICAL.\\n  Scattered atypical lymphoid cells in a background of\\n  reactive mesothelial cells\\n\\nIR guided paracentesis [**2174-4-25**]:\\nIMPRESSION:\\nUltrasound-guided diagnostic paracentesis, with a total of 200\\nmL of ascites removed.\\n\\nTTE [**2174-5-2**]:\\nThe left atrium is mildly elongated. Left ventricular wall\\nthicknesses and cavity size are normal. There is severe global\\nleft ventricular hypokinesis (LVEF = 20 %). Systolic function of\\napical segments is relatively preserved. No masses or thrombi\\nare seen in the left ventricle. Right ventricular chamber size\\nis mildly increased with moderate global free wall hypokinesis.\\n[Intrinsic right ventricular systolic function is likely more\\ndepressed given the severity of tricuspid regurgitation.] The\\naortic valve leaflets (3) appear structurally normal with good\\nleaflet excursion and no aortic stenosis or aortic\\nregurgitation. The mitral valve appears structurally normal with\\ntrivial mitral regurgitation. There is no mitral valve prolapse.\\nSevere [4+] tricuspid regurgitation is seen. There is mild\\npulmonary artery systolic hypertension [In the setting of at\\nleast moderate to severe tricuspid regurgitation, the estimated\\npulmonary artery systolic pressure may be underestimated due to\\na very high right atrial pressure.] There is a small\\ncircumferential pericardial effusion without echocardiographic\\nsigns of tamponade.\\n\\nIMPRESSION: Severe biventricular global hypokinesis. Severe\\ntricuspid regurgitation. Pulmonary artery systolic hypertension.\\nSmall circumferential pericardial effusion without evidence of\\ntamponade physiology.\\nCompared with the prior study (images reviewed) of [**2174-4-1**],\\nthe findings are similar.\\n\\nTTE [**2174-5-10**]:\\nThe left atrium is dilated. A left-to-right shunt across the\\ninteratrial septum is seen at rest consistent with a stretched\\npatent foramen ovale (or small atrial septal defect). There is\\nmild symmetric left ventricular hypertrophy. The left\\nventricular cavity size is normal with mildly impaired global\\nleft ventricular systolic function. The aortic valve leaflets\\n(3) appear structurally normal with good leaflet excursion and\\nno aortic stenosis or aortic regurgitation. The mitral valve\\nappears structurally normal with trivial mitral regurgitation.\\nThe tricuspid valve leaflets are mildly thickened. There is\\nmoderate (2+) tricuspid regurgitation. There is mild pulmonary\\nartery systolic hypertension. There is a small pericardial\\neffusion. There are no echocardiographic signs of tamponade.\\nEchocardiographic signs of tamponade may be absent in the\\npresence of elevated right sided pressures.\\n\\nCompared with the prior study (images reviewed) of [**2174-5-6**],\\nther pericardial effusion is now smaller. Biventricular\\nsysotolic function appears slightly less vigorous compared to\\nthe prior study (on a lower dose of milrinone now than during\\nthe prior study).\\n\\nCardiac cath [**2174-5-5**]:\\nCOMMENTS:\\n1. Hemodynamics measurements in this patient demonstrate low\\ncardiac output. Following administration of milrinone, cardiac\\nindex increased to the low-normal range with 2.5 L/min/m2.\\n2. Moderate pulmonary hypertension with right atrial v-waves\\nconsistent with severe TR noted. Pulmonary vascular resistance\\nis elevated at 280 dyne-cm-sec5.\\n\\nFINAL DIAGNOSIS:\\n1. Severe systolic ventricular dysfunction.\\n2. Moderate diastolic ventricular dysfunction.\\n3. Pulmonary hypertension\\n\\nLE ultrasound [**2174-5-13**]:\\nIMPRESSION:\\n1. No evidence for deep venous thrombosis in either lower\\nextremity.\\n2. 3.6 cm [**Hospital Ward Name 4675**] cyst in the right popliteal fossa as previous.\\nSuperficial soft tissue edema in the right mid thigh, may be\\nrelated to partial rupture of [**Hospital Ward Name 4675**] cyst.\\n\\nTTE [**2174-5-16**]:\\nThe left atrium is dilated. Left ventricular wall thicknesses\\nand cavity size are normal. The diameters of aorta at the sinus,\\nascending and arch levels are normal. The aortic valve leaflets\\n(3) appear structurally normal with good leaflet excursion and\\nno aortic stenosis or aortic regurgitation. The mitral valve\\nleaflets are structurally normal. There is no mitral valve\\nprolapse. Trivial mitral regurgitation is seen. Moderate [2+]\\ntricuspid regurgitation is seen. There is moderate pulmonary\\nartery systolic hypertension. There is a small pericardial\\neffusion. The effusion appears circumferential. There are no\\nechocardiographic signs of tamponade. Echocardiographic signs of\\ntamponade may be absent in the presence of elevated right sided\\npressures.\\n\\nCompared with the prior study (images reviewed) of [**2174-5-10**],\\nbiventricular systolic function is slightly worse. The size of\\nthe pericardial effusion is slightly smaller.\\n\\nBrief Hospital Course:\\n38 yo F w/ h/o ALL in remission s/p cord transplant in [**1-13**],\\nanthracycline-induced cardiomyopathy (EF 15-20% [**1-14**]) and\\nrecurrent nausea and vomiting who presents with 1 week abd pain,\\nacute on chronic renal failure and new hyperbilirubinemia.\\nUnclear unifying diagnosis.\\n\\n# Acute on Chronic Abdominal Pain:  Pt noted to have significant\\nabdominal pain as well as increased [**Month/Year (2) 4394**] on admission.  Of\\nnote, she had an extensive work up of her chronic abdominal pain\\nin the past with no clear cause.  Abdominal CT was unrevealing\\nfor any obvious source of her pain. GI was consulted who\\nrecommended a SBFT which did not reveal any significant\\npathology.  GI recommended bentyl for antispasmodic effect.  She\\nwas also continued on her home MS contin and IV morphine for\\nbreakthrough.  Her pain persisted as did her [**Last Name (LF) 4394**], [**First Name3 (LF) **] the\\ndecision was made to perform a diagnositc paracentesis under\\nultrasound guidance.  200ml peritoneal fluid was removed.  This\\nrevealed 775 WBCs, but a lymphocytic/monocytic predominance with\\nonly 1% polys making SBP unlikely.  Fluid was sent for culture\\nwhich showed no growth and flow cytometry which showed no\\nevidence of ALL recurrence.  Despite lack of evidence for SBP,\\nshe was started on zosyn empirically which was stopped on [**5-2**].\\nShe continued to have mild-moderate abdominal pain but was able\\nto eat full meals and had BMs. She was continued on her home\\nmscontin and morphine IR.\\n.\\n# Anthracycline-induced/ GVHD cardiomyopathy:  EF <20% on echo\\nfrom 2/[**2174**].  Pt was maintained on diuresis as above, which was\\nsubsequently held in the setting of rising creatinine with\\nimprovement in creatinine. Torsemide was slowly reintroduced and\\nuptitrated to 40mg [**Hospital1 **] which caused another bump in creatinine\\nto 3.0, so renal and cardiology were consulted. Renal ultrasound\\nwas unrevealing.  She was then taken to the Cath lab and placed\\non a milrinone/lasix gtt and transfered to the CCU. Her volume\\noverload slowly improved and her peripheral edema/ascites slowly\\nimproved as well. A repeat echo showed improved EF to 40-45% on\\nthe milrinone gtt. She was then started on solumedrol 30mg IV\\ndue to a concern for GVHD directed towards myocardium.  After\\nfurther discussion between cardiology and her oncology team she\\nwas also started on cellcept for further management of her GVHD.\\n She did well on milrinone and lasix drip, but the drip was\\nstopped when her creatinine bumped to 3.0 and it was felt her\\nvolume status was near maximization.  Her milrinone was then\\ndiscontiued and she was then transferred back to [**Hospital1 3242**] for further\\nmanagement of her abdominal pain and GVHD.  She was continued on\\ntorsemide for diuresis with close follow-up with her outpatient\\ncardiologist.  Of note, she had frequent alarms on telemetry for\\ntachycardia that cardiologist felt was mostly due to artifact;\\nher beta blocker was uptitrated.  Repeat TTE prior to discharge\\nshowed an EF of 35-40%.  She was discharged home on cellcept and\\nprednisone for possible GVHD.\\n\\n# Acute Renal Failure:  On admission Cr was 2.7 (recent baseline\\nwas 2), but at last discharge Cr was 2.3.  Renal saw the patient\\nwho thought this was likely from overdiuresis (home torsemide\\nregimen of 20mg [**Hospital1 **]) in conjunction with her [**Last Name (LF) **], [**First Name3 (LF) **] recommended\\nholding diuresis. Her Cr subsequently improved, but in the\\nsetting of her worsening [**First Name3 (LF) 4394**] and her cardiomyopathy,\\ndecision was made to slowly add back diuresis, and eventually\\nshe was up titrated to toresemide 40mg [**Hospital1 **] and her [**Last Name (un) **] was\\nrestarted.  With this, however, her Cr began to climb again to\\n3.0.  Given the delicate balance between her renal failure\\ncardiomyopathy, cardiology/renal were consulted. Given her\\ndepressed EF, her rising Cr was thought to be [**3-9**] volume\\noverload. She was sent to the cath lab and started on a\\nmilrinone/lasix gtt and transfered to the CCU with a goal\\ndiuresis of 1L per day. She was actively diuresed on her\\nmilrinone and lasix drip with a total net negative of close to\\n9L.  Her Cr then returned to baseline by time of discharge and\\nshe was discharged home on torsemide.\\n\\n# Hyperbilirubinemia:  Unclear cause, could have been related to\\na viral infection but no transaminitis to support this.  RUQ u/s\\nwithout cause for pain. This trended down to normal values and\\nremained stable by time of discharge\\n\\n# Leukocytosis: patient had uptrending WBC in setting of\\nstarting solumedrol, clutures were sent which revealed no\\ngrowth.\\n.\\n# H/O Embolic Stroke:  Has new opening of PFO based on most\\nrecent echo which likely contributed to her recent stroke.  She\\nwas maintained on coumadin 4mg daily, but anticoagulation was\\nheld on day of paracentesis and remained subtherapeutic for\\nseveral days, so she was maintained on a heparin drip to bridge\\nher to a therapeutic INR [**3-10**]. She was maintained on a decreased\\ndose of coumadin throughout hospital admission with INR within\\ngoal between 2 and 3. She was arranged with follow-up at\\noutpatient [**Hospital3 **].\\n\\nMedications on Admission:\\nCarvedilol 25 mg [**Hospital1 **]\\nFluticasone-salmeterol [**Hospital1 **]\\nMorphine 15 mg q6h prn pain\\nValsartan 40 mg qd\\nTorsemide 20 mg [**Hospital1 **]\\nMultivitamin qd\\nAlbuterol prn\\nLorazepam 0.5 mg q6h prn nausea\\nWarfarin 4 mg qd\\nOndansetron 8 mg tid prn\\nPentamidine 300 mg inhalation qmonth\\nColace 100 mg qd prn\\n\\n\\nDischarge Medications:\\n1. fluticasone-salmeterol 250-50 mcg/dose Disk with Device Sig:\\nOne (1) Disk with Device Inhalation [**Hospital1 **] (2 times a day).\\n2. docusate sodium 100 mg Capsule Sig: One (1) Capsule PO BID (2\\ntimes a day).\\n3. lorazepam 0.5 mg Tablet Sig: One (1) Tablet PO every six (6)\\nhours as needed for nausea.\\nDisp:*60 Tablet(s)* Refills:*0*\\n4. albuterol sulfate 90 mcg/Actuation HFA Aerosol Inhaler Sig:\\nTwo (2) Puff Inhalation Q4H (every 4 hours) as needed for sob or\\nwheeze.\\n5. Zofran 8 mg Tablet Sig: One (1) Tablet PO every eight (8)\\nhours as needed for nausea.\\n6. multivitamin     Tablet Sig: One (1) Tablet PO once a day.\\n7. metoprolol succinate 100 mg Tablet Extended Release 24 hr\\nSig: One (1) Tablet Extended Release 24 hr PO DAILY (Daily).\\nDisp:*30 Tablet Extended Release 24 hr(s)* Refills:*0*\\n8. morphine 15 mg Tablet Extended Release Sig: One (1) Tablet\\nExtended Release PO Q12H (every 12 hours).\\nDisp:*60 Tablet Extended Release(s)* Refills:*0*\\n9. dicyclomine 20 mg Tablet Sig: One (1) Tablet PO four times a\\nday.\\nDisp:*120 Tablet(s)* Refills:*0*\\n10. allopurinol 100 mg Tablet Sig: One (1) Tablet PO DAILY\\n(Daily).\\nDisp:*30 Tablet(s)* Refills:*0*\\n11. sulfamethoxazole-trimethoprim 400-80 mg Tablet Sig: One (1)\\nTablet PO DAILY (Daily).\\nDisp:*30 Tablet(s)* Refills:*0*\\n12. acyclovir 400 mg Tablet Sig: One (1) Tablet PO Q12H (every\\n12 hours).\\nDisp:*60 Tablet(s)* Refills:*0*\\n13. torsemide 20 mg Tablet Sig: Two (2) Tablet PO DAILY (Daily).\\nDisp:*60 Tablet(s)* Refills:*0*\\n14. simethicone 80 mg Tablet, Chewable Sig: One (1) Tablet,\\nChewable PO QID (4 times a day) as needed for abdominal pain or\\ngas.\\nDisp:*120 Tablet, Chewable(s)* Refills:*0*\\n15. mycophenolate mofetil 500 mg Tablet Sig: Two (2) Tablet PO\\nBID (2 times a day).\\nDisp:*120 Tablet(s)* Refills:*0*\\n16. prednisone 20 mg Tablet Sig: Three (3) Tablet PO DAILY\\n(Daily).\\nDisp:*90 Tablet(s)* Refills:*0*\\n17. magnesium hydroxide 400 mg/5 mL Suspension Sig: Thirty (30)\\nML PO Q6H (every 6 hours) as needed for constipation.\\nDisp:*500 ML(s)* Refills:*0*\\n18. morphine 15 mg Tablet Sig: One (1) Tablet PO every twelve\\n(12) hours as needed for pain.\\n19. warfarin 2 mg Tablet Sig: One (1) Tablet PO once a day.\\nDisp:*30 Tablet(s)* Refills:*0*\\n\\n\\nDischarge Disposition:\\nHome\\n\\nDischarge Diagnosis:\\nPrimary:\\n-Abdominal Pain\\n-Acute on chronic renal failure\\n-Systolic Heart failure\\n\\nSecondary:\\n-ALL\\n-History of embolic stroke\\n\\n\\nDischarge Condition:\\nMental Status: Clear and coherent.\\nLevel of Consciousness: Alert and interactive.\\nActivity Status: Ambulatory - Independent.\\n\\n\\nDischarge Instructions:\\nMs. [**Known lastname **],\\n\\nYou were admitted to the hospital for abdominal pain.  Your pain\\nwas treated with pain medications, and a new medication called\\nBentyl.  You were also switched to a longer acting form of your\\nmorphine.  We did a test to look at your small bowel which was\\nnegative.  At this point we are not sure what is causing your\\npain, but you had increased swelling of your abdomen which\\nlikely contributed to your pain.\\n\\nYou underwent a right heart catheterization and [**Known lastname 461**]\\nto assess your heart function because worsening heart failure\\ncan cause fluid in your belly and worsening kidney disease.  You\\nwere at the cardiac intensive care unit and placed on a\\nmedication that improved your heart function.  A repeat\\n[**Known lastname 461**] prior to your discharge showed that your heart\\nfunction has improved somewhat and is stable.  You will follow\\nup closely with your cardiologist as several of your heart\\nmedications have changed.  You were started on steroids and\\nmycophenolate mofetil because it was felt that you heart\\nproblems may be due to your leukemia.\\n\\nYou also had some worsening of your renal failure.  You were\\nfollowed by our kidney consult team while you were in the\\nhospital.  Your kidney function was stable prior to discharge.\\n\\nWe made the following changes to your medications:\\n-Mycophenolate Mofetil 1000mg twice a day was started\\n-Prednisone 60mg daily was started\\n-Coumadin was decreased to 2mg daily\\n-Torsemide was increased to 40mg daily\\n-Please hold your valsartan until you see your cardiologist\\n-Metoprolol succinate 100mg daily was started; please stop\\ncarvedilol\\n-Bentyl (dicyclomine) was started for your abdominal pain\\n-Simethicone was started for abdominal discomfort/gas\\n-Your morphine was switched to long-acting Morphine 15mg twice a\\nday\\n-Bactrim single strength, 1 tablet daily, was started to help\\nprevent infection\\n-Acyclovir 400mg twice a day was started to help prevent\\ninfection\\n-Allopurinol 100mg daily was started because your uric acid\\nlevels were high\\n\\nWeigh yourself every morning, [**Name8 (MD) 138**] MD if weight goes up more\\nthan 3 lbs.\\n\\nFollowup Instructions:\\nYou have the following appointments [**Name8 (MD) 1988**] for you.  You will\\nneed to follow up at [**Hospital3 **] on Thursday,\\n[**2174-5-19**], for an INR (coumadin level) check.  Please come to\\nthe [**Hospital Ward Name 23**] Center [**Location (un) 895**] for this lab test between 9am and\\n5pm.\\n\\nDepartment: HEMATOLOGY/ONCOLOGY\\nWhen: FRIDAY [**2174-5-20**] at 3:30 PM\\nWith: [**Name6 (MD) **] [**Name8 (MD) **], MD [**Telephone/Fax (1) 22**]\\nBuilding: [**Hospital6 29**] [**Location (un) **]\\nCampus: EAST     Best Parking: [**Hospital Ward Name 23**] Garage\\n\\nDepartment: HEMATOLOGY/ONCOLOGY\\nWhen: FRIDAY [**2174-5-20**] at 3:30 PM\\nWith: [**First Name11 (Name Pattern1) **] [**Last Name (NamePattern1) 10565**], NP [**Telephone/Fax (1) 22**]\\nBuilding: SC [**Hospital Ward Name 23**] Clinical Ctr [**Location (un) 24**]\\nCampus: EAST     Best Parking: [**Hospital Ward Name 23**] Garage\\n\\n[**First Name8 (NamePattern2) 449**] [**Last Name (NamePattern1) 437**] MD, Cardiology\\n[**Last Name (LF) 766**], [**2174-5-30**] at 11:00AM\\nSC [**Hospital Ward Name **] CLINICAL CTR, [**Location (un) **]\\n\\nDepartment: WEST [**Hospital 2002**] CLINIC\\nWhen: THURSDAY [**2174-6-9**] at 10:00 AM\\nWith: [**First Name11 (Name Pattern1) 177**] [**Last Name (NamePattern4) 720**], M.D. [**Telephone/Fax (1) 721**]\\nBuilding: De [**Hospital1 **] Building ([**Hospital Ward Name 121**] Complex) [**Location (un) **]\\nCampus: WEST     Best Parking: [**Street Address(1) 592**] Garage\\n\\n\\n                             [**Name6 (MD) **] [**Name8 (MD) **] MD [**MD Number(2) 3922**]\\n\\nCompleted by:[**2174-5-26**]\""
      ]
     },
     "execution_count": 32,
     "metadata": {},
     "output_type": "execute_result"
    }
   ],
   "source": [
    "data"
   ]
  },
  {
   "cell_type": "code",
   "execution_count": null,
   "metadata": {},
   "outputs": [],
   "source": []
  }
 ],
 "metadata": {
  "kernelspec": {
   "display_name": "Python 3",
   "language": "python",
   "name": "python3"
  },
  "language_info": {
   "codemirror_mode": {
    "name": "ipython",
    "version": 3
   },
   "file_extension": ".py",
   "mimetype": "text/x-python",
   "name": "python",
   "nbconvert_exporter": "python",
   "pygments_lexer": "ipython3",
   "version": "3.6.5"
  },
  "name": "n2c2_utils.ipynb"
 },
 "nbformat": 4,
 "nbformat_minor": 2
}
