{
 "cells": [
  {
   "cell_type": "code",
   "execution_count": 1,
   "metadata": {
    "autoscroll": false,
    "collapsed": false,
    "ein.hycell": false,
    "ein.tags": "worksheet-0",
    "slideshow": {
     "slide_type": "-"
    }
   },
   "outputs": [],
   "source": [
    "import clamp_parser as clamp"
   ]
  },
  {
   "cell_type": "code",
   "execution_count": 3,
   "metadata": {
    "autoscroll": false,
    "collapsed": false,
    "ein.hycell": false,
    "ein.tags": "worksheet-0",
    "slideshow": {
     "slide_type": "-"
    }
   },
   "outputs": [],
   "source": [
    "class n2c2Parser():    \n",
    "    filepath =  None\n",
    "    tokens = None\n",
    "    def __init__(self, filepath):\n",
    "        self.filepath = filepath\n",
    "\n",
    "    def parse_file(self, clamp_filepath):\n",
    "        self.tokens = clamp.xmi2Word(clamp_filepath)\n",
    "        \n",
    "    def tag_gold_tokens(self, gold_file):\n",
    "        parsed_gold = {}\n",
    "        with open(gold_file, 'r') as f:\n",
    "            gold_data = f.read().splitlines()\n",
    "        for l in gold_data:\n",
    "            data_in_line = self.parse_gold_line(l)\n",
    "            for data in data_in_line:\n",
    "                tagged_data = False\n",
    "                for token in range(len(self.tokens)):\n",
    "                    if (self.tokens[token].start_char >= data['start_offset'] and\n",
    "                            self.tokens[token].end_char <= data['end_offset']):\n",
    "                        tagged_data = True\n",
    "                        self.tokens[token].gold_concept = data['concept']\n",
    "                        self.tokens[token].gold_text = data['text']\n",
    "                        self.tokens[token].gold_id = data['id']\n",
    "                if not tagged_data:\n",
    "                    print('Data was not tagged for line:\\n{0}'.format(data))\n",
    "\n",
    "                                \n",
    "    def parse_gold_line(self, line):\n",
    "        bundle = []\n",
    "        if line[0] == 'T':\n",
    "            linesplit = line.split()\n",
    "            _id = linesplit[0]\n",
    "            concept = linesplit[1]\n",
    "            if r';' not in linesplit[3]: # continuous\n",
    "                start_offsets = [linesplit[2]]\n",
    "                end_offsets = [linesplit[3]]\n",
    "                text = linesplit[4:]\n",
    "            else: # non-continuous\n",
    "                offsets = ';'.join(linesplit[2:5]).split(';')\n",
    "                start_offsets = [offsets[0], offsets[2]]\n",
    "                end_offsets = [offsets[1], offsets[3]]\n",
    "                text = linesplit[5:]\n",
    "\n",
    "            for start_offset, end_offset in zip(start_offsets, end_offsets):\n",
    "                bundle.append(\n",
    "                    {\n",
    "                        'id': _id,\n",
    "                        'concept': concept,\n",
    "                        'start_offset': int(start_offset),\n",
    "                        'end_offset': int(end_offset),\n",
    "                        'text': ' '.join(text),\n",
    "                    }\n",
    "                )\n",
    "        return bundle"
   ]
  },
  {
   "cell_type": "code",
   "execution_count": 2,
   "metadata": {
    "autoscroll": false,
    "collapsed": false,
    "ein.hycell": false,
    "ein.tags": "worksheet-0",
    "slideshow": {
     "slide_type": "-"
    }
   },
   "outputs": [],
   "source": [
    "def test():\n",
    "    txt_file = '/Volumes/GoogleDrive/My Drive/Colab Notebooks/data/n2c2/track2/training_20180910/100035.txt'\n",
    "    ann_file = '/Volumes/GoogleDrive/My Drive/Colab Notebooks/data/n2c2/track2/training_20180910/100035.ann'\n",
    "    clamp_file = '/Volumes/GoogleDrive/My Drive/Colab Notebooks/data/n2c2/clamp-parsed/track2-training/output/100035.xmi'\n",
    "\n",
    "    parser = n2c2Parser(txt_file)\n",
    "    parser.parse_file(clamp_file)\n",
    "    parser.tag_gold_tokens(ann_file)"
   ]
  }
 ],
 "metadata": {
  "kernelspec": {
   "display_name": "Python 3",
   "name": "python3"
  },
  "language_info": {
   "codemirror_mode": {
    "name": "ipython",
    "version": 3
   },
   "file_extension": ".py",
   "mimetype": "text/x-python",
   "name": "python",
   "nbconvert_exporter": "python",
   "pygments_lexer": "ipython3",
   "version": "3.6.5"
  },
  "name": "n2c2_utils.ipynb"
 },
 "nbformat": 4,
 "nbformat_minor": 2
}
