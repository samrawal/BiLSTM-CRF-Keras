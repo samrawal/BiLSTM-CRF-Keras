{
 "cells": [
  {
   "cell_type": "code",
   "execution_count": 2,
   "metadata": {},
   "outputs": [],
   "source": [
    "import numpy as np\n",
    "import nltk, os\n",
    "from word import Word"
   ]
  },
  {
   "cell_type": "code",
   "execution_count": 9,
   "metadata": {},
   "outputs": [],
   "source": [
    "class i2b2Parser():\n",
    "    filepath =  None\n",
    "    tokens = None\n",
    "\n",
    "    def __init__(self, filepath):\n",
    "        self.filepath = filepath\n",
    "\n",
    "    def parse_file(self):\n",
    "        with open(self.filepath, 'r') as f:\n",
    "            data = f.read().splitlines()\n",
    "        tokens = {}\n",
    "        for linenum, line in enumerate(data):\n",
    "            for tokennum, token in enumerate(line.split()):\n",
    "                token = {'text': token, 'token': tokennum, 'line': linenum + 1}\n",
    "                if linenum + 1 not in tokens: tokens[linenum + 1] = {}\n",
    "                tokens[linenum + 1][tokennum] = token\n",
    "                \n",
    "        self.tokens = tokens\n",
    "    \n",
    "    def tag_gold_tokens(self, gold_file):\n",
    "        parsed_gold = {}\n",
    "        with open(gold_file, 'r') as f:\n",
    "            gold_data = f.read().splitlines()           \n",
    "        "
   ]
  },
  {
   "cell_type": "markdown",
   "metadata": {},
   "source": [
    "# Testing"
   ]
  },
  {
   "cell_type": "code",
   "execution_count": 4,
   "metadata": {},
   "outputs": [],
   "source": [
    "colab_path = os.environ['colab']\n",
    "data_path = colab_path + '/data/i2b2/2009 Medication Challenge/'\n",
    "sample_file = data_path + '/training_sets_released/2/11995'"
   ]
  },
  {
   "cell_type": "code",
   "execution_count": 10,
   "metadata": {},
   "outputs": [],
   "source": [
    "parser = i2b2Parser(sample_file)\n",
    "parser.parse_file()\n",
    "tokens = parser.tokens"
   ]
  }
 ],
 "metadata": {
  "kernelspec": {
   "display_name": "Python 3",
   "language": "python",
   "name": "python3"
  },
  "language_info": {
   "codemirror_mode": {
    "name": "ipython",
    "version": 3
   },
   "file_extension": ".py",
   "mimetype": "text/x-python",
   "name": "python",
   "nbconvert_exporter": "python",
   "pygments_lexer": "ipython3",
   "version": "3.6.5"
  }
 },
 "nbformat": 4,
 "nbformat_minor": 2
}
