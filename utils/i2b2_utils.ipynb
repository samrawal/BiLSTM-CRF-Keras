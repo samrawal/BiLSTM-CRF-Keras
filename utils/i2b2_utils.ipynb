{
 "cells": [
  {
   "cell_type": "code",
   "execution_count": 1,
   "metadata": {},
   "outputs": [],
   "source": [
    "import numpy as np\n",
    "import nltk, os\n",
    "from word import Word"
   ]
  },
  {
   "cell_type": "code",
   "execution_count": 2,
   "metadata": {},
   "outputs": [],
   "source": [
    "class i2b2Parser():\n",
    "    filepath =  None\n",
    "    tokens = None\n",
    "\n",
    "    def __init__(self, filepath):\n",
    "        self.filepath = filepath\n",
    "\n",
    "    def parse_file(self):\n",
    "        with open(self.filepath, 'r') as f:\n",
    "            data = f.read().splitlines()\n",
    "        tokens = []\n",
    "        for linenum, line in enumerate(data):\n",
    "            for tokennum, token in enumerate(line.split()):\n",
    "                token = {'text': token, 'token': tokennum, 'line': linenum + 1}\n",
    "                tokens.append(token)\n",
    "        self.tokens = tokens\n",
    "    \n",
    "    def tag_gold_tokens"
   ]
  },
  {
   "cell_type": "markdown",
   "metadata": {},
   "source": [
    "# Testing"
   ]
  },
  {
   "cell_type": "code",
   "execution_count": 3,
   "metadata": {},
   "outputs": [],
   "source": [
    "colab_path = os.environ['colab']\n",
    "data_path = colab_path + '/data/i2b2/2009 Medication Challenge/'\n",
    "sample_file = data_path + '/training_sets_released/2/11995'"
   ]
  },
  {
   "cell_type": "code",
   "execution_count": 4,
   "metadata": {},
   "outputs": [],
   "source": [
    "parser = i2b2Parser(sample_file)\n",
    "parser.parse_file()\n",
    "tokens = parser.tokens"
   ]
  },
  {
   "cell_type": "code",
   "execution_count": 6,
   "metadata": {},
   "outputs": [
    {
     "name": "stdout",
     "output_type": "stream",
     "text": [
      "{'text': 'p.o.', 'token': 0, 'line': 38}\n",
      "{'text': 'q', 'token': 1, 'line': 38}\n",
      "{'text': '12', 'token': 2, 'line': 38}\n",
      "{'text': ',', 'token': 3, 'line': 38}\n",
      "{'text': 'Ecotrin', 'token': 4, 'line': 38}\n",
      "{'text': '225', 'token': 5, 'line': 38}\n",
      "{'text': 'mg', 'token': 6, 'line': 38}\n",
      "{'text': 'q', 'token': 7, 'line': 38}\n",
      "{'text': 'd', 'token': 8, 'line': 38}\n",
      "{'text': ',', 'token': 9, 'line': 38}\n",
      "{'text': 'Vancomycin', 'token': 10, 'line': 38}\n",
      "{'text': '1250', 'token': 11, 'line': 38}\n",
      "{'text': 'mg', 'token': 12, 'line': 38}\n",
      "{'text': 'q', 'token': 13, 'line': 38}\n",
      "{'text': '24.', 'token': 14, 'line': 38}\n",
      "{'text': 'She', 'token': 15, 'line': 38}\n"
     ]
    }
   ],
   "source": [
    "for token in tokens:\n",
    "   if token['line'] == 38:\n",
    "        print(token)"
   ]
  }
 ],
 "metadata": {
  "kernelspec": {
   "display_name": "Python 3",
   "language": "python",
   "name": "python3"
  },
  "language_info": {
   "codemirror_mode": {
    "name": "ipython",
    "version": 3
   },
   "file_extension": ".py",
   "mimetype": "text/x-python",
   "name": "python",
   "nbconvert_exporter": "python",
   "pygments_lexer": "ipython3",
   "version": "3.6.5"
  }
 },
 "nbformat": 4,
 "nbformat_minor": 2
}
