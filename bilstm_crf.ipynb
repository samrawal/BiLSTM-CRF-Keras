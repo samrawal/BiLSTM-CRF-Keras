{
 "cells": [
  {
   "cell_type": "markdown",
   "metadata": {
    "colab_type": "text",
    "ein.tags": "worksheet-0",
    "id": "-yqYx3AqM8tF",
    "slideshow": {
     "slide_type": "-"
    }
   },
   "source": [
    "# About This Notebook\n",
    "\n",
    "This is an implementation of BiLSTM-CRF [ 1 ] in Keras. This notebook also downloads a copy of the publically-available CoNLL2003 Dataset to train/validate/test the model.\n",
    "\n",
    "\n",
    "Sam Rawal, 2018.\n",
    "\n",
    "1: Lample, Guillaume, et al. \"Neural architectures for named entity recognition.\" arXiv preprint arXiv:1603.01360 (2016)."
   ]
  },
  {
   "cell_type": "markdown",
   "metadata": {
    "colab_type": "text",
    "ein.tags": "worksheet-0",
    "id": "YCfy1CogIUdT",
    "slideshow": {
     "slide_type": "-"
    }
   },
   "source": [
    "# Set Up New Machine\n",
    "## If new Google Colab instance, or installing on new machine.\n",
    "**After first run, set `setup_machine` to `False`**"
   ]
  },
  {
   "cell_type": "code",
   "execution_count": 20,
   "metadata": {
    "autoscroll": false,
    "colab": null,
    "colab_type": "code",
    "collapsed": false,
    "ein.hycell": false,
    "ein.tags": "worksheet-0",
    "id": "fegQJ5YHeRuL",
    "slideshow": {
     "slide_type": "-"
    }
   },
   "outputs": [],
   "source": [
    "import socket\n",
    "hostname = socket.gethostname()\n",
    "local_hostnames = {\"sam's air\", \"Sams-Air\"}\n",
    "if hostname[:8] not in local_hostnames:\n",
    "  local_machine = False\n",
    "else:\n",
    "  local_machine = True"
   ]
  },
  {
   "cell_type": "code",
   "execution_count": 22,
   "metadata": {
    "autoscroll": false,
    "colab": null,
    "colab_type": "code",
    "collapsed": false,
    "ein.hycell": false,
    "ein.tags": "worksheet-0",
    "id": "EYR170AXDCGu",
    "slideshow": {
     "slide_type": "-"
    }
   },
   "outputs": [],
   "source": [
    "setup_machine = True if not local_machine else False\n",
    "\n",
    "if setup_machine:\n",
    "  # pip installs for packages not on Google Colab machines by default\n",
    "  !pip install -q keras==2.2.2\n",
    "  !pip install git+https://www.github.com/keras-team/keras-contrib.git\n",
    "  !pip install gensim\n",
    "  !pip install pydot\n",
    "  !pip install graphviz\n",
    "  !apt-get install graphviz\n",
    "  \n",
    "  # get CoNLL2003 dataset (Github source: https://goo.gl/SXq3Ct)\n",
    "  ! mkdir -p datasets/conll2003\n",
    "  ! curl -o datasets/conll2003/train.txt https://raw.githubusercontent.com/Franck-Dernoncourt/NeuroNER/master/data/conll2003/en/train.txt\n",
    "  ! curl -o datasets/conll2003/valid.txt https://raw.githubusercontent.com/Franck-Dernoncourt/NeuroNER/master/data/conll2003/en/valid.txt\n",
    "  ! curl -o datasets/conll2003/test.txt https://raw.githubusercontent.com/Franck-Dernoncourt/NeuroNER/master/data/conll2003/en/test.txt"
   ]
  },
  {
   "cell_type": "code",
   "execution_count": 23,
   "metadata": {
    "autoscroll": false,
    "colab": null,
    "colab_type": "code",
    "collapsed": false,
    "ein.hycell": false,
    "ein.tags": "worksheet-0",
    "id": "gGKAxb5MrFWf",
    "slideshow": {
     "slide_type": "-"
    }
   },
   "outputs": [],
   "source": [
    "import os\n",
    "colab_path = os.environ['colab']+'/' if local_machine else '/gdrive/My Drive/Colab Notebooks/'\n",
    "project_path = colab_path + \"/prescription_extraction/\""
   ]
  },
  {
   "cell_type": "code",
   "execution_count": 0,
   "metadata": {
    "autoscroll": false,
    "colab": null,
    "colab_type": "code",
    "collapsed": false,
    "ein.hycell": false,
    "ein.tags": "worksheet-0",
    "id": "2RZa1IBrkdjG",
    "slideshow": {
     "slide_type": "-"
    }
   },
   "outputs": [],
   "source": [
    "if not local_machine:\n",
    "  # mount Google Drive\n",
    "  from google.colab import drive\n",
    "  drive.mount('/gdrive')\n",
    "  import sys\n",
    "  sys.path.append(project_path)\n",
    "  "
   ]
  },
  {
   "cell_type": "markdown",
   "metadata": {
    "colab_type": "text",
    "ein.tags": "worksheet-0",
    "id": "_r3MPogfsSo0",
    "slideshow": {
     "slide_type": "-"
    }
   },
   "source": [
    "# Imports"
   ]
  },
  {
   "cell_type": "code",
   "execution_count": 0,
   "metadata": {
    "autoscroll": false,
    "colab": null,
    "colab_type": "code",
    "collapsed": false,
    "ein.hycell": false,
    "ein.tags": "worksheet-0",
    "id": "oVT07b0WsU1w",
    "slideshow": {
     "slide_type": "-"
    }
   },
   "outputs": [],
   "source": [
    "import numpy as np\n",
    "import sys\n",
    "import keras\n",
    "import os\n",
    "\n",
    "from keras.models import Model, load_model\n",
    "from keras.layers import Input, Embedding, LSTM, Dense, TimeDistributed, Reshape, Bidirectional, concatenate, Flatten\n",
    "from keras_contrib.layers import CRF\n",
    "from keras.utils import plot_model\n",
    "\n",
    "from utils.conll_utils import CoNLLParser\n",
    "from utils import word_embedding_utils as we\n",
    "from utils import preprocessing_utils as pprc\n"
   ]
  },
  {
   "cell_type": "markdown",
   "metadata": {
    "colab_type": "text",
    "ein.tags": "worksheet-0",
    "id": "pAb62QZIwm5F",
    "slideshow": {
     "slide_type": "-"
    }
   },
   "source": [
    "# BiLSTM-CRF Model"
   ]
  },
  {
   "cell_type": "markdown",
   "metadata": {
    "colab_type": "text",
    "ein.tags": "worksheet-0",
    "id": "lf36POLoDgR1",
    "slideshow": {
     "slide_type": "-"
    }
   },
   "source": [
    "## Configure Model Parameters"
   ]
  },
  {
   "cell_type": "code",
   "execution_count": 0,
   "metadata": {
    "autoscroll": false,
    "colab": null,
    "colab_type": "code",
    "collapsed": false,
    "ein.hycell": false,
    "ein.tags": "worksheet-0",
    "id": "yEarsbJMDgR4",
    "slideshow": {
     "slide_type": "-"
    }
   },
   "outputs": [],
   "source": [
    "embedding_dim = 100\n",
    "num_epochs = 10\n",
    "max_sentence = 20\n",
    "max_word = 25\n",
    "model_name = 'my_model'"
   ]
  },
  {
   "cell_type": "markdown",
   "metadata": {
    "colab_type": "text",
    "ein.tags": "worksheet-0",
    "id": "ZA605CMsDgR-",
    "slideshow": {
     "slide_type": "-"
    }
   },
   "source": [
    "## BiLSTM-CRF Architecture"
   ]
  },
  {
   "cell_type": "code",
   "execution_count": 0,
   "metadata": {
    "autoscroll": false,
    "colab": null,
    "colab_type": "code",
    "collapsed": false,
    "ein.hycell": false,
    "ein.tags": "worksheet-0",
    "id": "LK75pGpiwoyV",
    "slideshow": {
     "slide_type": "-"
    }
   },
   "outputs": [],
   "source": [
    "def define_model(max_sentence=max_sentence, max_word=max_word, vocab_size=None, embedding_dim=embedding_dim,\n",
    "                                            char_dim=None, ner_dim=None):\n",
    "  # distributional word representation: embeddings (TODO: GloVe/word2vec)\n",
    "  word_input = Input(shape=(max_sentence,), name=\"word_input\")\n",
    "  #embedding_weights = we.get_word2vec_embeddings(embedding_model, word_tokenizer, embedding_dim)\n",
    "  word = Embedding(input_dim=vocab_size+1, output_dim=embedding_dim,\n",
    "                   #weights=[embedding_weights],\n",
    "                   input_length=max_sentence,\n",
    "                   trainable=False\n",
    "  )(word_input)\n",
    "\n",
    "  # orthographic word representation: char embeddings -> BiLSTM\n",
    "  char_input = Input(shape=(max_sentence, max_word), name=\"char_input\")\n",
    "  char = TimeDistributed(\n",
    "      Embedding(input_dim=char_dim, output_dim = 120,\n",
    "                input_length=max_word)\n",
    "  )(char_input)\n",
    "  char = TimeDistributed(\n",
    "      Bidirectional(\n",
    "          LSTM(20, return_sequences=True),\n",
    "          merge_mode='concat'\n",
    "      )\n",
    "  )(char)\n",
    "  char = TimeDistributed(Flatten())(char)\n",
    "\n",
    "  # concatenate word + char representations\n",
    "  inputs = concatenate([word, char])\n",
    "\n",
    "  # main BiLSTM model\n",
    "  model = Bidirectional(\n",
    "      LSTM(20, return_sequences=True),\n",
    "      merge_mode='concat'\n",
    "  )(inputs)\n",
    "  model = TimeDistributed(\n",
    "      Dense(ner_dim, activation='softmax')\n",
    "  )(model)\n",
    "  crf = CRF(ner_dim, name=\"output\")\n",
    "  output = crf(model)\n",
    "\n",
    "  m = Model(inputs=[word_input, char_input], outputs=output)\n",
    "  m.compile(\n",
    "    loss=crf.loss_function,\n",
    "    optimizer='adam',\n",
    "    metrics=[crf.accuracy]\n",
    ")\n",
    "\n",
    "  return m"
   ]
  },
  {
   "cell_type": "markdown",
   "metadata": {
    "colab_type": "text",
    "ein.tags": "worksheet-0",
    "id": "dQrvqKF9DgSS",
    "slideshow": {
     "slide_type": "-"
    }
   },
   "source": [
    "## Save Model Architecture Information"
   ]
  },
  {
   "cell_type": "code",
   "execution_count": 0,
   "metadata": {
    "autoscroll": false,
    "colab": null,
    "colab_type": "code",
    "collapsed": false,
    "ein.hycell": false,
    "ein.tags": "worksheet-0",
    "id": "o8y7RkByDgTy",
    "slideshow": {
     "slide_type": "-"
    }
   },
   "outputs": [],
   "source": [
    "def model_info(model, model_name=model_name):\n",
    "    model.summary()\n",
    "    if not os.path.exists(project_path+'saved_models/{0}'.format(model_name)):\n",
    "        os.makedirs(project_path+'saved_models/{0}'.format(model_name))\n",
    "    plot_model(model,\n",
    "               to_file=project_path+'saved_models/{0}/{0}_architecture.png'.format(model_name),\n",
    "               show_shapes=True)"
   ]
  },
  {
   "cell_type": "markdown",
   "metadata": {
    "colab_type": "text",
    "ein.tags": "worksheet-0",
    "id": "12PJdwGiDgT5",
    "slideshow": {
     "slide_type": "-"
    }
   },
   "source": [
    "## Train Model"
   ]
  },
  {
   "cell_type": "code",
   "execution_count": 0,
   "metadata": {
    "autoscroll": false,
    "colab": null,
    "colab_type": "code",
    "collapsed": false,
    "ein.hycell": false,
    "ein.tags": "worksheet-0",
    "id": "Q5v1AHO6DgT6",
    "slideshow": {
     "slide_type": "-"
    }
   },
   "outputs": [],
   "source": [
    "def train_model(model, train_sents, train_chars, train_ner,\n",
    "                valid_sents=None, valid_chars=None, valid_ner=None, epochs=num_epochs):\n",
    "    model.fit({\"word_input\": train_sents, \"char_input\": train_chars}, {\"output\": train_ner},\n",
    "          validation_data=([valid_sents, valid_chars], [valid_ner]),\n",
    "          epochs=epochs,\n",
    "    )\n",
    "    return model"
   ]
  },
  {
   "cell_type": "markdown",
   "metadata": {
    "colab_type": "text",
    "ein.tags": "worksheet-0",
    "id": "QbVZjxTjDgT8",
    "slideshow": {
     "slide_type": "-"
    }
   },
   "source": [
    "## Evaluate Model"
   ]
  },
  {
   "cell_type": "code",
   "execution_count": 0,
   "metadata": {
    "autoscroll": false,
    "colab": null,
    "colab_type": "code",
    "collapsed": false,
    "ein.hycell": false,
    "ein.tags": "worksheet-0",
    "id": "HiX_6083DgT9",
    "slideshow": {
     "slide_type": "-"
    }
   },
   "outputs": [],
   "source": [
    "def eval_model(model, test_sents, test_chars, test_ner):\n",
    "    evaluation = model.evaluate(x=[test_sents, test_chars], y=test_ner)\n",
    "    return '{0}: {1}'.format(model.metrics_names, evaluation)"
   ]
  },
  {
   "cell_type": "markdown",
   "metadata": {
    "colab_type": "text",
    "ein.tags": "worksheet-0",
    "id": "APAzeoXsF2uS",
    "slideshow": {
     "slide_type": "-"
    }
   },
   "source": [
    "## Save Model"
   ]
  },
  {
   "cell_type": "code",
   "execution_count": 0,
   "metadata": {
    "autoscroll": false,
    "colab": null,
    "colab_type": "code",
    "collapsed": false,
    "ein.hycell": false,
    "ein.tags": "worksheet-0",
    "id": "8SO1Rn7fEifK",
    "slideshow": {
     "slide_type": "-"
    }
   },
   "outputs": [],
   "source": [
    "# via https://github.com/keras-team/keras-contrib/issues/129#issuecomment-399125152\n",
    "def create_custom_objects():\n",
    "    instanceHolder = {\"instance\": None}\n",
    "    class ClassWrapper(CRF):\n",
    "        def __init__(self, *args, **kwargs):\n",
    "            instanceHolder[\"instance\"] = self\n",
    "            super(ClassWrapper, self).__init__(*args, **kwargs)\n",
    "    def loss(*args):\n",
    "        method = getattr(instanceHolder[\"instance\"], \"loss_function\")\n",
    "        return method(*args)\n",
    "    def accuracy(*args):\n",
    "        method = getattr(instanceHolder[\"instance\"], \"accuracy\")\n",
    "        return method(*args)\n",
    "    return {\"ClassWrapper\": ClassWrapper ,\"CRF\": ClassWrapper, \"loss\": loss, \"accuracy\":accuracy}\n",
    "  \n",
    "def load_keras_model(path):\n",
    "    model = load_model(path, custom_objects=create_custom_objects())\n",
    "    return model\n"
   ]
  },
  {
   "cell_type": "markdown",
   "metadata": {
    "colab_type": "text",
    "ein.tags": "worksheet-0",
    "id": "dmRxZOkmDgUB",
    "slideshow": {
     "slide_type": "-"
    }
   },
   "source": [
    "# Load Data"
   ]
  },
  {
   "cell_type": "code",
   "execution_count": 0,
   "metadata": {
    "autoscroll": false,
    "colab": null,
    "colab_type": "code",
    "collapsed": false,
    "ein.hycell": false,
    "ein.tags": "worksheet-0",
    "id": "oyofZGkpDgUD",
    "slideshow": {
     "slide_type": "-"
    }
   },
   "outputs": [],
   "source": [
    "def load_data(d, word_tokenizer=None, ner_tokenizer=None, char_tokenizer=None):\n",
    "    data = CoNLLParser(d)\n",
    "    data.pad_data(max_sentence)\n",
    "    sents = data.get_sentences()\n",
    "    ner = data.get_ner()\n",
    "    chars = pprc.split_words(sents, padding=True, pad_len=max_word)\n",
    "    tokenized_words, word_tokenizer = pprc.tokenize(sents, t=word_tokenizer)\n",
    "    one_hot_ner, ner_tokenizer = pprc.one_hot_encode(ner, t=ner_tokenizer)\n",
    "    tokenized_chars, char_tokenizer = pprc.tokenize_chars(chars)\n",
    "    return (tokenized_words, word_tokenizer), (one_hot_ner, ner_tokenizer), (tokenized_chars, char_tokenizer)"
   ]
  },
  {
   "cell_type": "markdown",
   "metadata": {
    "colab_type": "text",
    "ein.tags": "worksheet-0",
    "id": "jxll9LjNDgUH",
    "slideshow": {
     "slide_type": "-"
    }
   },
   "source": [
    "# Run Model"
   ]
  },
  {
   "cell_type": "markdown",
   "metadata": {
    "colab_type": "text",
    "ein.tags": "worksheet-0",
    "id": "grr4V1xHL_p5",
    "slideshow": {
     "slide_type": "-"
    }
   },
   "source": [
    "## Preprocess Train/Validation/Test Data"
   ]
  },
  {
   "cell_type": "code",
   "execution_count": 0,
   "metadata": {
    "autoscroll": false,
    "colab": null,
    "colab_type": "code",
    "collapsed": false,
    "ein.hycell": false,
    "ein.tags": "worksheet-0",
    "id": "muB839qoDgUH",
    "slideshow": {
     "slide_type": "-"
    }
   },
   "outputs": [],
   "source": [
    "train_data = 'datasets/conll2003/train.txt'\n",
    "valid_data = 'datasets/conll2003/valid.txt'\n",
    "test_data = 'datasets/conll2003/test.txt'\n",
    "\n",
    "\n",
    "(train_sents, word_tokenizer), (train_ner, ner_tokenizer), (train_chars, char_tokenizer) = load_data(train_data)\n",
    "(valid_sents, _), (valid_ner, _) , (valid_chars, _) = load_data(valid_data, word_tokenizer, ner_tokenizer)\n",
    "(test_sents, _), (test_ner, _), (test_chars, _) = load_data(test_data, word_tokenizer, ner_tokenizer)\n",
    "vocab_size = len(word_tokenizer.word_index)"
   ]
  },
  {
   "cell_type": "markdown",
   "metadata": {
    "colab_type": "text",
    "ein.tags": "worksheet-0",
    "id": "Loh8h_H9Hg6m",
    "slideshow": {
     "slide_type": "-"
    }
   },
   "source": [
    "## Load Model From File"
   ]
  },
  {
   "cell_type": "code",
   "execution_count": 0,
   "metadata": {
    "autoscroll": false,
    "colab": null,
    "colab_type": "code",
    "collapsed": false,
    "ein.hycell": false,
    "ein.tags": "worksheet-0",
    "id": "YpBth63bHjMv",
    "slideshow": {
     "slide_type": "-"
    }
   },
   "outputs": [],
   "source": [
    "load_model = False\n",
    "if load_model:\n",
    "  model = load_keras_model(project_path+'saved_models/{0}/model.h5'.format(model_name))"
   ]
  },
  {
   "cell_type": "markdown",
   "metadata": {
    "colab_type": "text",
    "ein.tags": "worksheet-0",
    "id": "s_MgttlmMHw_",
    "slideshow": {
     "slide_type": "-"
    }
   },
   "source": [
    "## Get Model Architecture"
   ]
  },
  {
   "cell_type": "code",
   "execution_count": 0,
   "metadata": {
    "autoscroll": false,
    "colab": null,
    "colab_type": "code",
    "collapsed": false,
    "ein.hycell": false,
    "ein.tags": "worksheet-0",
    "id": "4lwLVxPsDgUK",
    "slideshow": {
     "slide_type": "-"
    }
   },
   "outputs": [],
   "source": [
    "if not load_model:\n",
    "  model = define_model(vocab_size=vocab_size, char_dim=len(char_tokenizer), ner_dim=len(ner_tokenizer.word_index))"
   ]
  },
  {
   "cell_type": "markdown",
   "metadata": {
    "colab_type": "text",
    "ein.tags": "worksheet-0",
    "id": "zjQ3zCs2MJF1",
    "slideshow": {
     "slide_type": "-"
    }
   },
   "source": [
    "## Print Model Info and Save Model Architecture"
   ]
  },
  {
   "cell_type": "code",
   "execution_count": 0,
   "metadata": {
    "autoscroll": false,
    "colab": null,
    "colab_type": "code",
    "collapsed": false,
    "ein.hycell": false,
    "ein.tags": "worksheet-0",
    "id": "NhSmR9_NDgUP",
    "slideshow": {
     "slide_type": "-"
    }
   },
   "outputs": [],
   "source": [
    "model_info(model)"
   ]
  },
  {
   "cell_type": "markdown",
   "metadata": {
    "colab_type": "text",
    "ein.tags": "worksheet-0",
    "id": "iASqvb5uMOgP",
    "slideshow": {
     "slide_type": "-"
    }
   },
   "source": [
    "## Train Model on Train Data & Validation Data"
   ]
  },
  {
   "cell_type": "code",
   "execution_count": 0,
   "metadata": {
    "autoscroll": false,
    "colab": null,
    "colab_type": "code",
    "collapsed": false,
    "ein.hycell": false,
    "ein.tags": "worksheet-0",
    "id": "A-wVXocQDgUS",
    "slideshow": {
     "slide_type": "-"
    }
   },
   "outputs": [],
   "source": [
    "if not load_model:\n",
    "  model = train_model(model, train_sents, train_chars, train_ner,\n",
    "                     valid_sents, valid_chars, valid_ner, epochs=2)"
   ]
  },
  {
   "cell_type": "markdown",
   "metadata": {
    "colab_type": "text",
    "ein.tags": "worksheet-0",
    "id": "Y_yWvGiKMSmw",
    "slideshow": {
     "slide_type": "-"
    }
   },
   "source": [
    "## Evaluate Model on Test Data"
   ]
  },
  {
   "cell_type": "code",
   "execution_count": 0,
   "metadata": {
    "autoscroll": false,
    "colab": null,
    "colab_type": "code",
    "collapsed": false,
    "ein.hycell": false,
    "ein.tags": "worksheet-0",
    "id": "svgGVKMzDgUU",
    "slideshow": {
     "slide_type": "-"
    }
   },
   "outputs": [],
   "source": [
    "eval_results = eval_model(model, test_sents, test_chars, test_ner)\n",
    "print(eval_results)"
   ]
  },
  {
   "cell_type": "code",
   "execution_count": 0,
   "metadata": {
    "autoscroll": false,
    "colab": null,
    "colab_type": "code",
    "collapsed": false,
    "ein.hycell": false,
    "ein.tags": "worksheet-0",
    "id": "w3DdkgNo7wq3",
    "slideshow": {
     "slide_type": "-"
    }
   },
   "outputs": [],
   "source": [
    "from datetime import datetime\n",
    "with open(project_path+'saved_models/{0}/evaluation.txt'.format(model_name), 'a') as df:\n",
    "  df.write('{0}:\\t{1}\\n'.format(str(datetime.now()), eval_results))"
   ]
  },
  {
   "cell_type": "markdown",
   "metadata": {
    "colab_type": "text",
    "ein.tags": "worksheet-0",
    "id": "9leAU3chHGV8",
    "slideshow": {
     "slide_type": "-"
    }
   },
   "source": [
    "## Save Model"
   ]
  },
  {
   "cell_type": "code",
   "execution_count": 0,
   "metadata": {
    "autoscroll": false,
    "colab": null,
    "colab_type": "code",
    "collapsed": false,
    "ein.hycell": false,
    "ein.tags": "worksheet-0",
    "id": "g0ijFRGSG9bJ",
    "slideshow": {
     "slide_type": "-"
    }
   },
   "outputs": [],
   "source": [
    "if not load_model:\n",
    "  model.save(project_path+'saved_models/{0}/model.h5'.format(model_name))"
   ]
  }
 ],
 "metadata": {
  "accelerator": "GPU",
  "colab": {
   "collapsed_sections": null,
   "name": "bilstm_crf.ipynb",
   "private_outputs": true,
   "provenance": null,
   "toc_visible": true,
   "version": "0.3.2"
  },
  "kernelspec": {
   "display_name": "Python 3",
   "name": "python3"
  },
  "name": "bilstm_crf.ipynb"
 },
 "nbformat": 4,
 "nbformat_minor": 0
}
